{
 "cells": [
  {
   "cell_type": "markdown",
   "id": "a9541e76",
   "metadata": {},
   "source": [
    "## Рубежный контроль №2 (Вариант 17). Сысоев Александр РТ5-61Б"
   ]
  },
  {
   "cell_type": "markdown",
   "id": "f4b07b34",
   "metadata": {},
   "source": [
    "Для заданного набора данных построить модели регрессии. Для построения моделей использовать методы: дерево решений и градиентный бустинг."
   ]
  },
  {
   "cell_type": "markdown",
   "id": "069a9108",
   "metadata": {},
   "source": [
    "### Импорт библиотек, чтение и основные хар-ки датасета"
   ]
  },
  {
   "cell_type": "code",
   "execution_count": 98,
   "id": "794989de",
   "metadata": {},
   "outputs": [],
   "source": [
    "import pandas as pd\n",
    "import numpy as np\n",
    "from matplotlib import pyplot as plt\n",
    "import seaborn as sns\n",
    "from sklearn.model_selection import train_test_split\n",
    "from sklearn.tree import DecisionTreeRegressor\n",
    "from sklearn.ensemble import GradientBoostingRegressor\n",
    "from sklearn.model_selection import RepeatedKFold\n",
    "from sklearn.model_selection import cross_val_score\n",
    "from sklearn.metrics import mean_absolute_error, mean_squared_error, median_absolute_error, mean_absolute_percentage_error\n",
    "from sklearn.model_selection import GridSearchCV, RandomizedSearchCV\n",
    "pd.options.display.float_format = '{:.0f}'.format"
   ]
  },
  {
   "cell_type": "code",
   "execution_count": 2,
   "id": "d73d2975",
   "metadata": {},
   "outputs": [
    {
     "data": {
      "text/html": [
       "<div>\n",
       "<style scoped>\n",
       "    .dataframe tbody tr th:only-of-type {\n",
       "        vertical-align: middle;\n",
       "    }\n",
       "\n",
       "    .dataframe tbody tr th {\n",
       "        vertical-align: top;\n",
       "    }\n",
       "\n",
       "    .dataframe thead th {\n",
       "        text-align: right;\n",
       "    }\n",
       "</style>\n",
       "<table border=\"1\" class=\"dataframe\">\n",
       "  <thead>\n",
       "    <tr style=\"text-align: right;\">\n",
       "      <th></th>\n",
       "      <th>Date</th>\n",
       "      <th>Team</th>\n",
       "      <th>Opponent</th>\n",
       "      <th>Goal Scored</th>\n",
       "      <th>Ball Possession %</th>\n",
       "      <th>Attempts</th>\n",
       "      <th>On-Target</th>\n",
       "      <th>Off-Target</th>\n",
       "      <th>Blocked</th>\n",
       "      <th>Corners</th>\n",
       "      <th>...</th>\n",
       "      <th>Yellow Card</th>\n",
       "      <th>Yellow &amp; Red</th>\n",
       "      <th>Red</th>\n",
       "      <th>Man of the Match</th>\n",
       "      <th>1st Goal</th>\n",
       "      <th>Round</th>\n",
       "      <th>PSO</th>\n",
       "      <th>Goals in PSO</th>\n",
       "      <th>Own goals</th>\n",
       "      <th>Own goal Time</th>\n",
       "    </tr>\n",
       "  </thead>\n",
       "  <tbody>\n",
       "    <tr>\n",
       "      <th>0</th>\n",
       "      <td>14-06-2018</td>\n",
       "      <td>Russia</td>\n",
       "      <td>Saudi Arabia</td>\n",
       "      <td>5</td>\n",
       "      <td>40</td>\n",
       "      <td>13</td>\n",
       "      <td>7</td>\n",
       "      <td>3</td>\n",
       "      <td>3</td>\n",
       "      <td>6</td>\n",
       "      <td>...</td>\n",
       "      <td>0</td>\n",
       "      <td>0</td>\n",
       "      <td>0</td>\n",
       "      <td>Yes</td>\n",
       "      <td>12</td>\n",
       "      <td>Group Stage</td>\n",
       "      <td>No</td>\n",
       "      <td>0</td>\n",
       "      <td>NaN</td>\n",
       "      <td>NaN</td>\n",
       "    </tr>\n",
       "    <tr>\n",
       "      <th>1</th>\n",
       "      <td>14-06-2018</td>\n",
       "      <td>Saudi Arabia</td>\n",
       "      <td>Russia</td>\n",
       "      <td>0</td>\n",
       "      <td>60</td>\n",
       "      <td>6</td>\n",
       "      <td>0</td>\n",
       "      <td>3</td>\n",
       "      <td>3</td>\n",
       "      <td>2</td>\n",
       "      <td>...</td>\n",
       "      <td>0</td>\n",
       "      <td>0</td>\n",
       "      <td>0</td>\n",
       "      <td>No</td>\n",
       "      <td>NaN</td>\n",
       "      <td>Group Stage</td>\n",
       "      <td>No</td>\n",
       "      <td>0</td>\n",
       "      <td>NaN</td>\n",
       "      <td>NaN</td>\n",
       "    </tr>\n",
       "    <tr>\n",
       "      <th>2</th>\n",
       "      <td>15-06-2018</td>\n",
       "      <td>Egypt</td>\n",
       "      <td>Uruguay</td>\n",
       "      <td>0</td>\n",
       "      <td>43</td>\n",
       "      <td>8</td>\n",
       "      <td>3</td>\n",
       "      <td>3</td>\n",
       "      <td>2</td>\n",
       "      <td>0</td>\n",
       "      <td>...</td>\n",
       "      <td>2</td>\n",
       "      <td>0</td>\n",
       "      <td>0</td>\n",
       "      <td>No</td>\n",
       "      <td>NaN</td>\n",
       "      <td>Group Stage</td>\n",
       "      <td>No</td>\n",
       "      <td>0</td>\n",
       "      <td>NaN</td>\n",
       "      <td>NaN</td>\n",
       "    </tr>\n",
       "    <tr>\n",
       "      <th>3</th>\n",
       "      <td>15-06-2018</td>\n",
       "      <td>Uruguay</td>\n",
       "      <td>Egypt</td>\n",
       "      <td>1</td>\n",
       "      <td>57</td>\n",
       "      <td>14</td>\n",
       "      <td>4</td>\n",
       "      <td>6</td>\n",
       "      <td>4</td>\n",
       "      <td>5</td>\n",
       "      <td>...</td>\n",
       "      <td>0</td>\n",
       "      <td>0</td>\n",
       "      <td>0</td>\n",
       "      <td>Yes</td>\n",
       "      <td>89</td>\n",
       "      <td>Group Stage</td>\n",
       "      <td>No</td>\n",
       "      <td>0</td>\n",
       "      <td>NaN</td>\n",
       "      <td>NaN</td>\n",
       "    </tr>\n",
       "    <tr>\n",
       "      <th>4</th>\n",
       "      <td>15-06-2018</td>\n",
       "      <td>Morocco</td>\n",
       "      <td>Iran</td>\n",
       "      <td>0</td>\n",
       "      <td>64</td>\n",
       "      <td>13</td>\n",
       "      <td>3</td>\n",
       "      <td>6</td>\n",
       "      <td>4</td>\n",
       "      <td>5</td>\n",
       "      <td>...</td>\n",
       "      <td>1</td>\n",
       "      <td>0</td>\n",
       "      <td>0</td>\n",
       "      <td>No</td>\n",
       "      <td>NaN</td>\n",
       "      <td>Group Stage</td>\n",
       "      <td>No</td>\n",
       "      <td>0</td>\n",
       "      <td>1</td>\n",
       "      <td>90</td>\n",
       "    </tr>\n",
       "  </tbody>\n",
       "</table>\n",
       "<p>5 rows × 27 columns</p>\n",
       "</div>"
      ],
      "text/plain": [
       "         Date          Team      Opponent  Goal Scored  Ball Possession %  \\\n",
       "0  14-06-2018        Russia  Saudi Arabia            5                 40   \n",
       "1  14-06-2018  Saudi Arabia        Russia            0                 60   \n",
       "2  15-06-2018         Egypt       Uruguay            0                 43   \n",
       "3  15-06-2018       Uruguay         Egypt            1                 57   \n",
       "4  15-06-2018       Morocco          Iran            0                 64   \n",
       "\n",
       "   Attempts  On-Target  Off-Target  Blocked  Corners  ...  Yellow Card  \\\n",
       "0        13          7           3        3        6  ...            0   \n",
       "1         6          0           3        3        2  ...            0   \n",
       "2         8          3           3        2        0  ...            2   \n",
       "3        14          4           6        4        5  ...            0   \n",
       "4        13          3           6        4        5  ...            1   \n",
       "\n",
       "   Yellow & Red  Red  Man of the Match  1st Goal        Round  PSO  \\\n",
       "0             0    0               Yes        12  Group Stage   No   \n",
       "1             0    0                No       NaN  Group Stage   No   \n",
       "2             0    0                No       NaN  Group Stage   No   \n",
       "3             0    0               Yes        89  Group Stage   No   \n",
       "4             0    0                No       NaN  Group Stage   No   \n",
       "\n",
       "   Goals in PSO  Own goals  Own goal Time  \n",
       "0             0        NaN            NaN  \n",
       "1             0        NaN            NaN  \n",
       "2             0        NaN            NaN  \n",
       "3             0        NaN            NaN  \n",
       "4             0          1             90  \n",
       "\n",
       "[5 rows x 27 columns]"
      ]
     },
     "execution_count": 2,
     "metadata": {},
     "output_type": "execute_result"
    }
   ],
   "source": [
    "data = pd.read_csv('FIFA 2018 Statistics.csv')\n",
    "data.head()"
   ]
  },
  {
   "cell_type": "code",
   "execution_count": 3,
   "id": "1c828475",
   "metadata": {},
   "outputs": [
    {
     "name": "stdout",
     "output_type": "stream",
     "text": [
      "<class 'pandas.core.frame.DataFrame'>\n",
      "RangeIndex: 128 entries, 0 to 127\n",
      "Data columns (total 27 columns):\n",
      " #   Column                  Non-Null Count  Dtype  \n",
      "---  ------                  --------------  -----  \n",
      " 0   Date                    128 non-null    object \n",
      " 1   Team                    128 non-null    object \n",
      " 2   Opponent                128 non-null    object \n",
      " 3   Goal Scored             128 non-null    int64  \n",
      " 4   Ball Possession %       128 non-null    int64  \n",
      " 5   Attempts                128 non-null    int64  \n",
      " 6   On-Target               128 non-null    int64  \n",
      " 7   Off-Target              128 non-null    int64  \n",
      " 8   Blocked                 128 non-null    int64  \n",
      " 9   Corners                 128 non-null    int64  \n",
      " 10  Offsides                128 non-null    int64  \n",
      " 11  Free Kicks              128 non-null    int64  \n",
      " 12  Saves                   128 non-null    int64  \n",
      " 13  Pass Accuracy %         128 non-null    int64  \n",
      " 14  Passes                  128 non-null    int64  \n",
      " 15  Distance Covered (Kms)  128 non-null    int64  \n",
      " 16  Fouls Committed         128 non-null    int64  \n",
      " 17  Yellow Card             128 non-null    int64  \n",
      " 18  Yellow & Red            128 non-null    int64  \n",
      " 19  Red                     128 non-null    int64  \n",
      " 20  Man of the Match        128 non-null    object \n",
      " 21  1st Goal                94 non-null     float64\n",
      " 22  Round                   128 non-null    object \n",
      " 23  PSO                     128 non-null    object \n",
      " 24  Goals in PSO            128 non-null    int64  \n",
      " 25  Own goals               12 non-null     float64\n",
      " 26  Own goal Time           12 non-null     float64\n",
      "dtypes: float64(3), int64(18), object(6)\n",
      "memory usage: 27.1+ KB\n"
     ]
    }
   ],
   "source": [
    "data.info()"
   ]
  },
  {
   "cell_type": "code",
   "execution_count": 4,
   "id": "62efe555",
   "metadata": {},
   "outputs": [
    {
     "data": {
      "text/html": [
       "<div>\n",
       "<style scoped>\n",
       "    .dataframe tbody tr th:only-of-type {\n",
       "        vertical-align: middle;\n",
       "    }\n",
       "\n",
       "    .dataframe tbody tr th {\n",
       "        vertical-align: top;\n",
       "    }\n",
       "\n",
       "    .dataframe thead th {\n",
       "        text-align: right;\n",
       "    }\n",
       "</style>\n",
       "<table border=\"1\" class=\"dataframe\">\n",
       "  <thead>\n",
       "    <tr style=\"text-align: right;\">\n",
       "      <th></th>\n",
       "      <th>Goal Scored</th>\n",
       "      <th>Ball Possession %</th>\n",
       "      <th>Attempts</th>\n",
       "      <th>On-Target</th>\n",
       "      <th>Off-Target</th>\n",
       "      <th>Blocked</th>\n",
       "      <th>Corners</th>\n",
       "      <th>Offsides</th>\n",
       "      <th>Free Kicks</th>\n",
       "      <th>Saves</th>\n",
       "      <th>...</th>\n",
       "      <th>Passes</th>\n",
       "      <th>Distance Covered (Kms)</th>\n",
       "      <th>Fouls Committed</th>\n",
       "      <th>Yellow Card</th>\n",
       "      <th>Yellow &amp; Red</th>\n",
       "      <th>Red</th>\n",
       "      <th>1st Goal</th>\n",
       "      <th>Goals in PSO</th>\n",
       "      <th>Own goals</th>\n",
       "      <th>Own goal Time</th>\n",
       "    </tr>\n",
       "  </thead>\n",
       "  <tbody>\n",
       "    <tr>\n",
       "      <th>count</th>\n",
       "      <td>128</td>\n",
       "      <td>128</td>\n",
       "      <td>128</td>\n",
       "      <td>128</td>\n",
       "      <td>128</td>\n",
       "      <td>128</td>\n",
       "      <td>128</td>\n",
       "      <td>128</td>\n",
       "      <td>128</td>\n",
       "      <td>128</td>\n",
       "      <td>...</td>\n",
       "      <td>128</td>\n",
       "      <td>128</td>\n",
       "      <td>128</td>\n",
       "      <td>128</td>\n",
       "      <td>128</td>\n",
       "      <td>128</td>\n",
       "      <td>94</td>\n",
       "      <td>128</td>\n",
       "      <td>12</td>\n",
       "      <td>12</td>\n",
       "    </tr>\n",
       "    <tr>\n",
       "      <th>mean</th>\n",
       "      <td>1</td>\n",
       "      <td>50</td>\n",
       "      <td>13</td>\n",
       "      <td>4</td>\n",
       "      <td>5</td>\n",
       "      <td>3</td>\n",
       "      <td>5</td>\n",
       "      <td>1</td>\n",
       "      <td>15</td>\n",
       "      <td>3</td>\n",
       "      <td>...</td>\n",
       "      <td>463</td>\n",
       "      <td>107</td>\n",
       "      <td>14</td>\n",
       "      <td>2</td>\n",
       "      <td>0</td>\n",
       "      <td>0</td>\n",
       "      <td>39</td>\n",
       "      <td>0</td>\n",
       "      <td>1</td>\n",
       "      <td>46</td>\n",
       "    </tr>\n",
       "    <tr>\n",
       "      <th>std</th>\n",
       "      <td>1</td>\n",
       "      <td>10</td>\n",
       "      <td>5</td>\n",
       "      <td>2</td>\n",
       "      <td>2</td>\n",
       "      <td>2</td>\n",
       "      <td>2</td>\n",
       "      <td>1</td>\n",
       "      <td>5</td>\n",
       "      <td>2</td>\n",
       "      <td>...</td>\n",
       "      <td>151</td>\n",
       "      <td>12</td>\n",
       "      <td>5</td>\n",
       "      <td>1</td>\n",
       "      <td>0</td>\n",
       "      <td>0</td>\n",
       "      <td>24</td>\n",
       "      <td>1</td>\n",
       "      <td>0</td>\n",
       "      <td>30</td>\n",
       "    </tr>\n",
       "    <tr>\n",
       "      <th>min</th>\n",
       "      <td>0</td>\n",
       "      <td>25</td>\n",
       "      <td>3</td>\n",
       "      <td>0</td>\n",
       "      <td>1</td>\n",
       "      <td>0</td>\n",
       "      <td>0</td>\n",
       "      <td>0</td>\n",
       "      <td>5</td>\n",
       "      <td>0</td>\n",
       "      <td>...</td>\n",
       "      <td>189</td>\n",
       "      <td>80</td>\n",
       "      <td>5</td>\n",
       "      <td>0</td>\n",
       "      <td>0</td>\n",
       "      <td>0</td>\n",
       "      <td>1</td>\n",
       "      <td>0</td>\n",
       "      <td>1</td>\n",
       "      <td>12</td>\n",
       "    </tr>\n",
       "    <tr>\n",
       "      <th>25%</th>\n",
       "      <td>0</td>\n",
       "      <td>42</td>\n",
       "      <td>9</td>\n",
       "      <td>2</td>\n",
       "      <td>4</td>\n",
       "      <td>2</td>\n",
       "      <td>3</td>\n",
       "      <td>0</td>\n",
       "      <td>11</td>\n",
       "      <td>1</td>\n",
       "      <td>...</td>\n",
       "      <td>351</td>\n",
       "      <td>101</td>\n",
       "      <td>10</td>\n",
       "      <td>1</td>\n",
       "      <td>0</td>\n",
       "      <td>0</td>\n",
       "      <td>18</td>\n",
       "      <td>0</td>\n",
       "      <td>1</td>\n",
       "      <td>22</td>\n",
       "    </tr>\n",
       "    <tr>\n",
       "      <th>50%</th>\n",
       "      <td>1</td>\n",
       "      <td>50</td>\n",
       "      <td>12</td>\n",
       "      <td>4</td>\n",
       "      <td>5</td>\n",
       "      <td>3</td>\n",
       "      <td>5</td>\n",
       "      <td>1</td>\n",
       "      <td>15</td>\n",
       "      <td>2</td>\n",
       "      <td>...</td>\n",
       "      <td>462</td>\n",
       "      <td>104</td>\n",
       "      <td>13</td>\n",
       "      <td>2</td>\n",
       "      <td>0</td>\n",
       "      <td>0</td>\n",
       "      <td>39</td>\n",
       "      <td>0</td>\n",
       "      <td>1</td>\n",
       "      <td>35</td>\n",
       "    </tr>\n",
       "    <tr>\n",
       "      <th>75%</th>\n",
       "      <td>2</td>\n",
       "      <td>58</td>\n",
       "      <td>15</td>\n",
       "      <td>5</td>\n",
       "      <td>7</td>\n",
       "      <td>4</td>\n",
       "      <td>6</td>\n",
       "      <td>2</td>\n",
       "      <td>18</td>\n",
       "      <td>4</td>\n",
       "      <td>...</td>\n",
       "      <td>555</td>\n",
       "      <td>109</td>\n",
       "      <td>16</td>\n",
       "      <td>2</td>\n",
       "      <td>0</td>\n",
       "      <td>0</td>\n",
       "      <td>55</td>\n",
       "      <td>0</td>\n",
       "      <td>1</td>\n",
       "      <td>76</td>\n",
       "    </tr>\n",
       "    <tr>\n",
       "      <th>max</th>\n",
       "      <td>6</td>\n",
       "      <td>75</td>\n",
       "      <td>26</td>\n",
       "      <td>12</td>\n",
       "      <td>11</td>\n",
       "      <td>10</td>\n",
       "      <td>11</td>\n",
       "      <td>5</td>\n",
       "      <td>26</td>\n",
       "      <td>9</td>\n",
       "      <td>...</td>\n",
       "      <td>1137</td>\n",
       "      <td>148</td>\n",
       "      <td>25</td>\n",
       "      <td>6</td>\n",
       "      <td>1</td>\n",
       "      <td>1</td>\n",
       "      <td>90</td>\n",
       "      <td>4</td>\n",
       "      <td>1</td>\n",
       "      <td>90</td>\n",
       "    </tr>\n",
       "  </tbody>\n",
       "</table>\n",
       "<p>8 rows × 21 columns</p>\n",
       "</div>"
      ],
      "text/plain": [
       "       Goal Scored  Ball Possession %  Attempts  On-Target  Off-Target  \\\n",
       "count          128                128       128        128         128   \n",
       "mean             1                 50        13          4           5   \n",
       "std              1                 10         5          2           2   \n",
       "min              0                 25         3          0           1   \n",
       "25%              0                 42         9          2           4   \n",
       "50%              1                 50        12          4           5   \n",
       "75%              2                 58        15          5           7   \n",
       "max              6                 75        26         12          11   \n",
       "\n",
       "       Blocked  Corners  Offsides  Free Kicks  Saves  ...  Passes  \\\n",
       "count      128      128       128         128    128  ...     128   \n",
       "mean         3        5         1          15      3  ...     463   \n",
       "std          2        2         1           5      2  ...     151   \n",
       "min          0        0         0           5      0  ...     189   \n",
       "25%          2        3         0          11      1  ...     351   \n",
       "50%          3        5         1          15      2  ...     462   \n",
       "75%          4        6         2          18      4  ...     555   \n",
       "max         10       11         5          26      9  ...    1137   \n",
       "\n",
       "       Distance Covered (Kms)  Fouls Committed  Yellow Card  Yellow & Red  \\\n",
       "count                     128              128          128           128   \n",
       "mean                      107               14            2             0   \n",
       "std                        12                5            1             0   \n",
       "min                        80                5            0             0   \n",
       "25%                       101               10            1             0   \n",
       "50%                       104               13            2             0   \n",
       "75%                       109               16            2             0   \n",
       "max                       148               25            6             1   \n",
       "\n",
       "       Red  1st Goal  Goals in PSO  Own goals  Own goal Time  \n",
       "count  128        94           128         12             12  \n",
       "mean     0        39             0          1             46  \n",
       "std      0        24             1          0             30  \n",
       "min      0         1             0          1             12  \n",
       "25%      0        18             0          1             22  \n",
       "50%      0        39             0          1             35  \n",
       "75%      0        55             0          1             76  \n",
       "max      1        90             4          1             90  \n",
       "\n",
       "[8 rows x 21 columns]"
      ]
     },
     "execution_count": 4,
     "metadata": {},
     "output_type": "execute_result"
    }
   ],
   "source": [
    "data.describe()"
   ]
  },
  {
   "cell_type": "code",
   "execution_count": 5,
   "id": "04aeb6f1",
   "metadata": {},
   "outputs": [
    {
     "data": {
      "text/plain": [
       "(128, 27)"
      ]
     },
     "execution_count": 5,
     "metadata": {},
     "output_type": "execute_result"
    }
   ],
   "source": [
    "data.shape"
   ]
  },
  {
   "cell_type": "code",
   "execution_count": 100,
   "id": "8dc4735f",
   "metadata": {},
   "outputs": [
    {
     "data": {
      "text/plain": [
       "<AxesSubplot:>"
      ]
     },
     "execution_count": 100,
     "metadata": {},
     "output_type": "execute_result"
    },
    {
     "data": {
      "image/png": "[encoded data removed]",
      "text/plain": [
       "<Figure size 720x720 with 2 Axes>"
      ]
     },
     "metadata": {
      "needs_background": "light"
     },
     "output_type": "display_data"
    }
   ],
   "source": [
    "fig, ax = plt.subplots(figsize=(10,10))\n",
    "sns.heatmap(data.corr(), annot=True, fmt='.1f')"
   ]
  },
  {
   "cell_type": "markdown",
   "id": "4518f77f",
   "metadata": {},
   "source": [
    "### Обработка пропусков и кодирование категориальных признаков"
   ]
  },
  {
   "cell_type": "code",
   "execution_count": 6,
   "id": "d5d17c6e",
   "metadata": {},
   "outputs": [
    {
     "data": {
      "text/plain": [
       "Date                        0\n",
       "Team                        0\n",
       "Opponent                    0\n",
       "Goal Scored                 0\n",
       "Ball Possession %           0\n",
       "Attempts                    0\n",
       "On-Target                   0\n",
       "Off-Target                  0\n",
       "Blocked                     0\n",
       "Corners                     0\n",
       "Offsides                    0\n",
       "Free Kicks                  0\n",
       "Saves                       0\n",
       "Pass Accuracy %             0\n",
       "Passes                      0\n",
       "Distance Covered (Kms)      0\n",
       "Fouls Committed             0\n",
       "Yellow Card                 0\n",
       "Yellow & Red                0\n",
       "Red                         0\n",
       "Man of the Match            0\n",
       "1st Goal                   34\n",
       "Round                       0\n",
       "PSO                         0\n",
       "Goals in PSO                0\n",
       "Own goals                 116\n",
       "Own goal Time             116\n",
       "dtype: int64"
      ]
     },
     "execution_count": 6,
     "metadata": {},
     "output_type": "execute_result"
    }
   ],
   "source": [
    "data.isnull().sum()"
   ]
  },
  {
   "cell_type": "code",
   "execution_count": 7,
   "id": "ffa26343",
   "metadata": {},
   "outputs": [],
   "source": [
    "data_notna = data.fillna(0)"
   ]
  },
  {
   "cell_type": "code",
   "execution_count": 8,
   "id": "8b9f6034",
   "metadata": {},
   "outputs": [
    {
     "data": {
      "text/plain": [
       "Date                      0\n",
       "Team                      0\n",
       "Opponent                  0\n",
       "Goal Scored               0\n",
       "Ball Possession %         0\n",
       "Attempts                  0\n",
       "On-Target                 0\n",
       "Off-Target                0\n",
       "Blocked                   0\n",
       "Corners                   0\n",
       "Offsides                  0\n",
       "Free Kicks                0\n",
       "Saves                     0\n",
       "Pass Accuracy %           0\n",
       "Passes                    0\n",
       "Distance Covered (Kms)    0\n",
       "Fouls Committed           0\n",
       "Yellow Card               0\n",
       "Yellow & Red              0\n",
       "Red                       0\n",
       "Man of the Match          0\n",
       "1st Goal                  0\n",
       "Round                     0\n",
       "PSO                       0\n",
       "Goals in PSO              0\n",
       "Own goals                 0\n",
       "Own goal Time             0\n",
       "dtype: int64"
      ]
     },
     "execution_count": 8,
     "metadata": {},
     "output_type": "execute_result"
    }
   ],
   "source": [
    "data_notna.isnull().sum()"
   ]
  },
  {
   "cell_type": "code",
   "execution_count": 10,
   "id": "ecd5cedb",
   "metadata": {},
   "outputs": [
    {
     "data": {
      "text/plain": [
       "Date                       object\n",
       "Team                       object\n",
       "Opponent                   object\n",
       "Goal Scored                 int64\n",
       "Ball Possession %           int64\n",
       "Attempts                    int64\n",
       "On-Target                   int64\n",
       "Off-Target                  int64\n",
       "Blocked                     int64\n",
       "Corners                     int64\n",
       "Offsides                    int64\n",
       "Free Kicks                  int64\n",
       "Saves                       int64\n",
       "Pass Accuracy %             int64\n",
       "Passes                      int64\n",
       "Distance Covered (Kms)      int64\n",
       "Fouls Committed             int64\n",
       "Yellow Card                 int64\n",
       "Yellow & Red                int64\n",
       "Red                         int64\n",
       "Man of the Match           object\n",
       "1st Goal                  float64\n",
       "Round                      object\n",
       "PSO                        object\n",
       "Goals in PSO                int64\n",
       "Own goals                 float64\n",
       "Own goal Time             float64\n",
       "dtype: object"
      ]
     },
     "execution_count": 10,
     "metadata": {},
     "output_type": "execute_result"
    }
   ],
   "source": [
    "data_notna.dtypes"
   ]
  },
  {
   "cell_type": "code",
   "execution_count": 11,
   "id": "488d846b",
   "metadata": {},
   "outputs": [],
   "source": [
    "data_notna = data_notna.drop(['Date'], axis=1)"
   ]
  },
  {
   "cell_type": "code",
   "execution_count": 20,
   "id": "8e266510",
   "metadata": {},
   "outputs": [
    {
     "data": {
      "text/html": [
       "<div>\n",
       "<style scoped>\n",
       "    .dataframe tbody tr th:only-of-type {\n",
       "        vertical-align: middle;\n",
       "    }\n",
       "\n",
       "    .dataframe tbody tr th {\n",
       "        vertical-align: top;\n",
       "    }\n",
       "\n",
       "    .dataframe thead th {\n",
       "        text-align: right;\n",
       "    }\n",
       "</style>\n",
       "<table border=\"1\" class=\"dataframe\">\n",
       "  <thead>\n",
       "    <tr style=\"text-align: right;\">\n",
       "      <th></th>\n",
       "      <th>Goal Scored</th>\n",
       "      <th>Ball Possession %</th>\n",
       "      <th>Attempts</th>\n",
       "      <th>On-Target</th>\n",
       "      <th>Off-Target</th>\n",
       "      <th>Blocked</th>\n",
       "      <th>Corners</th>\n",
       "      <th>Offsides</th>\n",
       "      <th>Free Kicks</th>\n",
       "      <th>Saves</th>\n",
       "      <th>...</th>\n",
       "      <th>Opponent_Switzerland</th>\n",
       "      <th>Opponent_Tunisia</th>\n",
       "      <th>Opponent_Uruguay</th>\n",
       "      <th>Man of the Match_Yes</th>\n",
       "      <th>Round_Final</th>\n",
       "      <th>Round_Group Stage</th>\n",
       "      <th>Round_Quarter Finals</th>\n",
       "      <th>Round_Round of 16</th>\n",
       "      <th>Round_Semi- Finals</th>\n",
       "      <th>PSO_Yes</th>\n",
       "    </tr>\n",
       "  </thead>\n",
       "  <tbody>\n",
       "    <tr>\n",
       "      <th>0</th>\n",
       "      <td>5</td>\n",
       "      <td>40</td>\n",
       "      <td>13</td>\n",
       "      <td>7</td>\n",
       "      <td>3</td>\n",
       "      <td>3</td>\n",
       "      <td>6</td>\n",
       "      <td>3</td>\n",
       "      <td>11</td>\n",
       "      <td>0</td>\n",
       "      <td>...</td>\n",
       "      <td>0</td>\n",
       "      <td>0</td>\n",
       "      <td>0</td>\n",
       "      <td>1</td>\n",
       "      <td>0</td>\n",
       "      <td>1</td>\n",
       "      <td>0</td>\n",
       "      <td>0</td>\n",
       "      <td>0</td>\n",
       "      <td>0</td>\n",
       "    </tr>\n",
       "    <tr>\n",
       "      <th>1</th>\n",
       "      <td>0</td>\n",
       "      <td>60</td>\n",
       "      <td>6</td>\n",
       "      <td>0</td>\n",
       "      <td>3</td>\n",
       "      <td>3</td>\n",
       "      <td>2</td>\n",
       "      <td>1</td>\n",
       "      <td>25</td>\n",
       "      <td>2</td>\n",
       "      <td>...</td>\n",
       "      <td>0</td>\n",
       "      <td>0</td>\n",
       "      <td>0</td>\n",
       "      <td>0</td>\n",
       "      <td>0</td>\n",
       "      <td>1</td>\n",
       "      <td>0</td>\n",
       "      <td>0</td>\n",
       "      <td>0</td>\n",
       "      <td>0</td>\n",
       "    </tr>\n",
       "    <tr>\n",
       "      <th>2</th>\n",
       "      <td>0</td>\n",
       "      <td>43</td>\n",
       "      <td>8</td>\n",
       "      <td>3</td>\n",
       "      <td>3</td>\n",
       "      <td>2</td>\n",
       "      <td>0</td>\n",
       "      <td>1</td>\n",
       "      <td>7</td>\n",
       "      <td>3</td>\n",
       "      <td>...</td>\n",
       "      <td>0</td>\n",
       "      <td>0</td>\n",
       "      <td>1</td>\n",
       "      <td>0</td>\n",
       "      <td>0</td>\n",
       "      <td>1</td>\n",
       "      <td>0</td>\n",
       "      <td>0</td>\n",
       "      <td>0</td>\n",
       "      <td>0</td>\n",
       "    </tr>\n",
       "    <tr>\n",
       "      <th>3</th>\n",
       "      <td>1</td>\n",
       "      <td>57</td>\n",
       "      <td>14</td>\n",
       "      <td>4</td>\n",
       "      <td>6</td>\n",
       "      <td>4</td>\n",
       "      <td>5</td>\n",
       "      <td>1</td>\n",
       "      <td>13</td>\n",
       "      <td>3</td>\n",
       "      <td>...</td>\n",
       "      <td>0</td>\n",
       "      <td>0</td>\n",
       "      <td>0</td>\n",
       "      <td>1</td>\n",
       "      <td>0</td>\n",
       "      <td>1</td>\n",
       "      <td>0</td>\n",
       "      <td>0</td>\n",
       "      <td>0</td>\n",
       "      <td>0</td>\n",
       "    </tr>\n",
       "    <tr>\n",
       "      <th>4</th>\n",
       "      <td>0</td>\n",
       "      <td>64</td>\n",
       "      <td>13</td>\n",
       "      <td>3</td>\n",
       "      <td>6</td>\n",
       "      <td>4</td>\n",
       "      <td>5</td>\n",
       "      <td>0</td>\n",
       "      <td>14</td>\n",
       "      <td>2</td>\n",
       "      <td>...</td>\n",
       "      <td>0</td>\n",
       "      <td>0</td>\n",
       "      <td>0</td>\n",
       "      <td>0</td>\n",
       "      <td>0</td>\n",
       "      <td>1</td>\n",
       "      <td>0</td>\n",
       "      <td>0</td>\n",
       "      <td>0</td>\n",
       "      <td>0</td>\n",
       "    </tr>\n",
       "    <tr>\n",
       "      <th>...</th>\n",
       "      <td>...</td>\n",
       "      <td>...</td>\n",
       "      <td>...</td>\n",
       "      <td>...</td>\n",
       "      <td>...</td>\n",
       "      <td>...</td>\n",
       "      <td>...</td>\n",
       "      <td>...</td>\n",
       "      <td>...</td>\n",
       "      <td>...</td>\n",
       "      <td>...</td>\n",
       "      <td>...</td>\n",
       "      <td>...</td>\n",
       "      <td>...</td>\n",
       "      <td>...</td>\n",
       "      <td>...</td>\n",
       "      <td>...</td>\n",
       "      <td>...</td>\n",
       "      <td>...</td>\n",
       "      <td>...</td>\n",
       "      <td>...</td>\n",
       "    </tr>\n",
       "    <tr>\n",
       "      <th>123</th>\n",
       "      <td>1</td>\n",
       "      <td>46</td>\n",
       "      <td>11</td>\n",
       "      <td>1</td>\n",
       "      <td>6</td>\n",
       "      <td>4</td>\n",
       "      <td>4</td>\n",
       "      <td>3</td>\n",
       "      <td>24</td>\n",
       "      <td>5</td>\n",
       "      <td>...</td>\n",
       "      <td>0</td>\n",
       "      <td>0</td>\n",
       "      <td>0</td>\n",
       "      <td>0</td>\n",
       "      <td>0</td>\n",
       "      <td>0</td>\n",
       "      <td>0</td>\n",
       "      <td>0</td>\n",
       "      <td>1</td>\n",
       "      <td>0</td>\n",
       "    </tr>\n",
       "    <tr>\n",
       "      <th>124</th>\n",
       "      <td>2</td>\n",
       "      <td>43</td>\n",
       "      <td>12</td>\n",
       "      <td>4</td>\n",
       "      <td>3</td>\n",
       "      <td>5</td>\n",
       "      <td>4</td>\n",
       "      <td>1</td>\n",
       "      <td>5</td>\n",
       "      <td>5</td>\n",
       "      <td>...</td>\n",
       "      <td>0</td>\n",
       "      <td>0</td>\n",
       "      <td>0</td>\n",
       "      <td>1</td>\n",
       "      <td>0</td>\n",
       "      <td>0</td>\n",
       "      <td>0</td>\n",
       "      <td>0</td>\n",
       "      <td>0</td>\n",
       "      <td>0</td>\n",
       "    </tr>\n",
       "    <tr>\n",
       "      <th>125</th>\n",
       "      <td>0</td>\n",
       "      <td>57</td>\n",
       "      <td>15</td>\n",
       "      <td>5</td>\n",
       "      <td>7</td>\n",
       "      <td>3</td>\n",
       "      <td>5</td>\n",
       "      <td>0</td>\n",
       "      <td>12</td>\n",
       "      <td>2</td>\n",
       "      <td>...</td>\n",
       "      <td>0</td>\n",
       "      <td>0</td>\n",
       "      <td>0</td>\n",
       "      <td>0</td>\n",
       "      <td>0</td>\n",
       "      <td>0</td>\n",
       "      <td>0</td>\n",
       "      <td>0</td>\n",
       "      <td>0</td>\n",
       "      <td>0</td>\n",
       "    </tr>\n",
       "    <tr>\n",
       "      <th>126</th>\n",
       "      <td>4</td>\n",
       "      <td>39</td>\n",
       "      <td>8</td>\n",
       "      <td>6</td>\n",
       "      <td>1</td>\n",
       "      <td>1</td>\n",
       "      <td>2</td>\n",
       "      <td>1</td>\n",
       "      <td>14</td>\n",
       "      <td>1</td>\n",
       "      <td>...</td>\n",
       "      <td>0</td>\n",
       "      <td>0</td>\n",
       "      <td>0</td>\n",
       "      <td>1</td>\n",
       "      <td>1</td>\n",
       "      <td>0</td>\n",
       "      <td>0</td>\n",
       "      <td>0</td>\n",
       "      <td>0</td>\n",
       "      <td>0</td>\n",
       "    </tr>\n",
       "    <tr>\n",
       "      <th>127</th>\n",
       "      <td>2</td>\n",
       "      <td>61</td>\n",
       "      <td>15</td>\n",
       "      <td>3</td>\n",
       "      <td>8</td>\n",
       "      <td>4</td>\n",
       "      <td>6</td>\n",
       "      <td>1</td>\n",
       "      <td>15</td>\n",
       "      <td>3</td>\n",
       "      <td>...</td>\n",
       "      <td>0</td>\n",
       "      <td>0</td>\n",
       "      <td>0</td>\n",
       "      <td>0</td>\n",
       "      <td>1</td>\n",
       "      <td>0</td>\n",
       "      <td>0</td>\n",
       "      <td>0</td>\n",
       "      <td>0</td>\n",
       "      <td>0</td>\n",
       "    </tr>\n",
       "  </tbody>\n",
       "</table>\n",
       "<p>128 rows × 90 columns</p>\n",
       "</div>"
      ],
      "text/plain": [
       "     Goal Scored  Ball Possession %  Attempts  On-Target  Off-Target  Blocked  \\\n",
       "0              5                 40        13          7           3        3   \n",
       "1              0                 60         6          0           3        3   \n",
       "2              0                 43         8          3           3        2   \n",
       "3              1                 57        14          4           6        4   \n",
       "4              0                 64        13          3           6        4   \n",
       "..           ...                ...       ...        ...         ...      ...   \n",
       "123            1                 46        11          1           6        4   \n",
       "124            2                 43        12          4           3        5   \n",
       "125            0                 57        15          5           7        3   \n",
       "126            4                 39         8          6           1        1   \n",
       "127            2                 61        15          3           8        4   \n",
       "\n",
       "     Corners  Offsides  Free Kicks  Saves  ...  Opponent_Switzerland  \\\n",
       "0          6         3          11      0  ...                     0   \n",
       "1          2         1          25      2  ...                     0   \n",
       "2          0         1           7      3  ...                     0   \n",
       "3          5         1          13      3  ...                     0   \n",
       "4          5         0          14      2  ...                     0   \n",
       "..       ...       ...         ...    ...  ...                   ...   \n",
       "123        4         3          24      5  ...                     0   \n",
       "124        4         1           5      5  ...                     0   \n",
       "125        5         0          12      2  ...                     0   \n",
       "126        2         1          14      1  ...                     0   \n",
       "127        6         1          15      3  ...                     0   \n",
       "\n",
       "     Opponent_Tunisia  Opponent_Uruguay  Man of the Match_Yes  Round_Final  \\\n",
       "0                   0                 0                     1            0   \n",
       "1                   0                 0                     0            0   \n",
       "2                   0                 1                     0            0   \n",
       "3                   0                 0                     1            0   \n",
       "4                   0                 0                     0            0   \n",
       "..                ...               ...                   ...          ...   \n",
       "123                 0                 0                     0            0   \n",
       "124                 0                 0                     1            0   \n",
       "125                 0                 0                     0            0   \n",
       "126                 0                 0                     1            1   \n",
       "127                 0                 0                     0            1   \n",
       "\n",
       "     Round_Group Stage  Round_Quarter Finals  Round_Round of 16  \\\n",
       "0                    1                     0                  0   \n",
       "1                    1                     0                  0   \n",
       "2                    1                     0                  0   \n",
       "3                    1                     0                  0   \n",
       "4                    1                     0                  0   \n",
       "..                 ...                   ...                ...   \n",
       "123                  0                     0                  0   \n",
       "124                  0                     0                  0   \n",
       "125                  0                     0                  0   \n",
       "126                  0                     0                  0   \n",
       "127                  0                     0                  0   \n",
       "\n",
       "     Round_Semi- Finals  PSO_Yes  \n",
       "0                     0        0  \n",
       "1                     0        0  \n",
       "2                     0        0  \n",
       "3                     0        0  \n",
       "4                     0        0  \n",
       "..                  ...      ...  \n",
       "123                   1        0  \n",
       "124                   0        0  \n",
       "125                   0        0  \n",
       "126                   0        0  \n",
       "127                   0        0  \n",
       "\n",
       "[128 rows x 90 columns]"
      ]
     },
     "execution_count": 20,
     "metadata": {},
     "output_type": "execute_result"
    }
   ],
   "source": [
    "data_ohe = pd.get_dummies(data_notna, columns=['Team', 'Opponent', 'Man of the Match', 'Round', 'PSO'], drop_first=1)\n",
    "data_ohe"
   ]
  },
  {
   "cell_type": "code",
   "execution_count": 21,
   "id": "63e3701f",
   "metadata": {},
   "outputs": [],
   "source": [
    "data_ohe = data_ohe.rename(columns = {'Man of the Match_Yes' : 'Man of the Match'})"
   ]
  },
  {
   "cell_type": "markdown",
   "id": "989e2bbf",
   "metadata": {},
   "source": [
    "### Разделение на обучающую и тестовую выборки"
   ]
  },
  {
   "cell_type": "code",
   "execution_count": 72,
   "id": "60a8048b",
   "metadata": {},
   "outputs": [],
   "source": [
    "features = data_ohe.drop(['Free Kicks'], axis=1)\n",
    "target = data_ohe['Free Kicks']"
   ]
  },
  {
   "cell_type": "code",
   "execution_count": 73,
   "id": "2e990e61",
   "metadata": {},
   "outputs": [],
   "source": [
    "features_train, features_test, target_train, target_test = train_test_split(features,\n",
    "                                                                             target,\n",
    "                                                                             test_size=0.25,\n",
    "                                                                             random_state=1)"
   ]
  },
  {
   "cell_type": "code",
   "execution_count": 74,
   "id": "28725408",
   "metadata": {},
   "outputs": [
    {
     "name": "stdout",
     "output_type": "stream",
     "text": [
      "(96, 89) (32, 89)\n"
     ]
    }
   ],
   "source": [
    "print(features_train.shape, features_test.shape)"
   ]
  },
  {
   "cell_type": "code",
   "execution_count": 75,
   "id": "17a30f62",
   "metadata": {},
   "outputs": [
    {
     "name": "stdout",
     "output_type": "stream",
     "text": [
      "(96,) (32,)\n"
     ]
    }
   ],
   "source": [
    "print(target_train.shape, target_test.shape)"
   ]
  },
  {
   "cell_type": "markdown",
   "id": "0b0dd887",
   "metadata": {},
   "source": [
    "### Обучение моделей"
   ]
  },
  {
   "cell_type": "code",
   "execution_count": 76,
   "id": "243566d6",
   "metadata": {},
   "outputs": [],
   "source": [
    "model_DT = DecisionTreeRegressor(random_state=1, max_depth=10)"
   ]
  },
  {
   "cell_type": "code",
   "execution_count": 77,
   "id": "6d3d481b",
   "metadata": {},
   "outputs": [
    {
     "data": {
      "text/plain": [
       "DecisionTreeRegressor(max_depth=10, random_state=1)"
      ]
     },
     "execution_count": 77,
     "metadata": {},
     "output_type": "execute_result"
    }
   ],
   "source": [
    "model_DT.fit(features_train, target_train)"
   ]
  },
  {
   "cell_type": "code",
   "execution_count": 78,
   "id": "5c76d484",
   "metadata": {},
   "outputs": [
    {
     "name": "stdout",
     "output_type": "stream",
     "text": [
      "Decision Tree: 5.159375\n"
     ]
    }
   ],
   "source": [
    "predictions_DT = model_DT.predict(features_test)\n",
    "print('Decision Tree:', mean_absolute_error(target_test, predictions_DT))"
   ]
  },
  {
   "cell_type": "code",
   "execution_count": 79,
   "id": "fd98754f",
   "metadata": {},
   "outputs": [
    {
     "data": {
      "text/plain": [
       "[{'max_depth': array([1, 3, 5, 7, 9])}]"
      ]
     },
     "execution_count": 79,
     "metadata": {},
     "output_type": "execute_result"
    }
   ],
   "source": [
    "n_range = np.array(range(1, 11, 2))\n",
    "tuned_parametrs = [{'max_depth' : n_range}]\n",
    "tuned_parametrs"
   ]
  },
  {
   "cell_type": "code",
   "execution_count": 80,
   "id": "11f7ed4f",
   "metadata": {},
   "outputs": [
    {
     "data": {
      "text/plain": [
       "GridSearchCV(cv=5, estimator=DecisionTreeRegressor(random_state=1),\n",
       "             param_grid=[{'max_depth': array([1, 3, 5, 7, 9])}],\n",
       "             scoring='neg_mean_absolute_error')"
      ]
     },
     "execution_count": 80,
     "metadata": {},
     "output_type": "execute_result"
    }
   ],
   "source": [
    "tuned_DT = GridSearchCV(DecisionTreeRegressor(random_state=1), tuned_parametrs, cv=5, scoring='neg_mean_absolute_error')\n",
    "tuned_DT.fit(features, target)"
   ]
  },
  {
   "cell_type": "code",
   "execution_count": 81,
   "id": "63274b2e",
   "metadata": {},
   "outputs": [
    {
     "data": {
      "text/plain": [
       "{'max_depth': 1}"
      ]
     },
     "execution_count": 81,
     "metadata": {},
     "output_type": "execute_result"
    }
   ],
   "source": [
    "tuned_DT.best_params_"
   ]
  },
  {
   "cell_type": "code",
   "execution_count": 82,
   "id": "2f98780c",
   "metadata": {},
   "outputs": [],
   "source": [
    "model_GB = GradientBoostingRegressor(random_state=3)"
   ]
  },
  {
   "cell_type": "code",
   "execution_count": 83,
   "id": "ea4ced95",
   "metadata": {},
   "outputs": [
    {
     "data": {
      "text/plain": [
       "GradientBoostingRegressor(random_state=3)"
      ]
     },
     "execution_count": 83,
     "metadata": {},
     "output_type": "execute_result"
    }
   ],
   "source": [
    "model_GB.fit(features_train, target_train)"
   ]
  },
  {
   "cell_type": "code",
   "execution_count": 84,
   "id": "c14e6db1",
   "metadata": {},
   "outputs": [
    {
     "name": "stdout",
     "output_type": "stream",
     "text": [
      "Gradient Boosting: 4.368629742605819\n"
     ]
    }
   ],
   "source": [
    "predictions_GB = model_GB.predict(features_test)\n",
    "print('Gradient Boosting:', mean_absolute_error(target_test, predictions_GB))"
   ]
  },
  {
   "cell_type": "code",
   "execution_count": 85,
   "id": "5d117747",
   "metadata": {},
   "outputs": [],
   "source": [
    "params = {'n_estimators' : [2, 5, 10],\n",
    "          'learning_rate' : np.linspace(0.1, 0.3, 3),\n",
    "          'min_samples_split' : np.arange(2, 5, 1),\n",
    "          'max_depth' : np.arange(1, 5, 1)}"
   ]
  },
  {
   "cell_type": "code",
   "execution_count": 86,
   "id": "fc36016c",
   "metadata": {},
   "outputs": [
    {
     "data": {
      "text/plain": [
       "GridSearchCV(cv=5, estimator=GradientBoostingRegressor(random_state=3),\n",
       "             param_grid={'learning_rate': array([0.1, 0.2, 0.3]),\n",
       "                         'max_depth': array([1, 2, 3, 4]),\n",
       "                         'min_samples_split': array([2, 3, 4]),\n",
       "                         'n_estimators': [2, 5, 10]},\n",
       "             scoring='neg_mean_squared_error')"
      ]
     },
     "execution_count": 86,
     "metadata": {},
     "output_type": "execute_result"
    }
   ],
   "source": [
    "tuned_GB = GridSearchCV(GradientBoostingRegressor(random_state=3), params, scoring='neg_mean_squared_error', cv=5)\n",
    "tuned_GB.fit(features, target)"
   ]
  },
  {
   "cell_type": "code",
   "execution_count": 87,
   "id": "4f91b9a1",
   "metadata": {},
   "outputs": [
    {
     "data": {
      "text/plain": [
       "{'learning_rate': 0.1,\n",
       " 'max_depth': 1,\n",
       " 'min_samples_split': 2,\n",
       " 'n_estimators': 2}"
      ]
     },
     "execution_count": 87,
     "metadata": {},
     "output_type": "execute_result"
    }
   ],
   "source": [
    "tuned_GB.best_params_"
   ]
  },
  {
   "cell_type": "code",
   "execution_count": 88,
   "id": "cb8a6ffb",
   "metadata": {},
   "outputs": [
    {
     "data": {
      "text/plain": [
       "DecisionTreeRegressor(max_depth=1, random_state=1)"
      ]
     },
     "execution_count": 88,
     "metadata": {},
     "output_type": "execute_result"
    }
   ],
   "source": [
    "tuned_DT.best_estimator_.fit(features_train, target_train)"
   ]
  },
  {
   "cell_type": "code",
   "execution_count": 89,
   "id": "d461dc99",
   "metadata": {},
   "outputs": [],
   "source": [
    "predictions_DT_tuned_train = tuned_DT.best_estimator_.predict(features_train)\n",
    "predictions_DT_tuned_test = tuned_DT.best_estimator_.predict(features_test)"
   ]
  },
  {
   "cell_type": "code",
   "execution_count": 90,
   "id": "1e926de5",
   "metadata": {},
   "outputs": [
    {
     "data": {
      "text/plain": [
       "GradientBoostingRegressor(max_depth=1, n_estimators=2, random_state=3)"
      ]
     },
     "execution_count": 90,
     "metadata": {},
     "output_type": "execute_result"
    }
   ],
   "source": [
    "tuned_GB.best_estimator_.fit(features_train, target_train)"
   ]
  },
  {
   "cell_type": "code",
   "execution_count": 91,
   "id": "54fc73ce",
   "metadata": {},
   "outputs": [],
   "source": [
    "predictions_GB_tuned_train = tuned_GB.best_estimator_.predict(features_train)\n",
    "predictions_GB_tuned_test = tuned_GB.best_estimator_.predict(features_test)"
   ]
  },
  {
   "cell_type": "markdown",
   "id": "3e5ba7f8",
   "metadata": {},
   "source": [
    "### Оценка качества моделей"
   ]
  },
  {
   "cell_type": "code",
   "execution_count": 92,
   "id": "4ccf4a8a",
   "metadata": {},
   "outputs": [],
   "source": [
    "mae_dict = {}\n",
    "mse_dict = {}\n",
    "rmse_dict = {}\n",
    "mape_dict = {}"
   ]
  },
  {
   "cell_type": "code",
   "execution_count": 93,
   "id": "835303b3",
   "metadata": {},
   "outputs": [
    {
     "data": {
      "text/plain": [
       "{'Gradient boosting': 4.286108899456522, 'Decision Tree': 4.467730978260869}"
      ]
     },
     "execution_count": 93,
     "metadata": {},
     "output_type": "execute_result"
    }
   ],
   "source": [
    "mae_dict = {'Gradient boosting' : mean_absolute_error(target_test, predictions_GB_tuned_test),\n",
    "            'Decision Tree' : mean_absolute_error(target_test, predictions_DT_tuned_test)}\n",
    "mae_dict"
   ]
  },
  {
   "cell_type": "code",
   "execution_count": 94,
   "id": "8d11c144",
   "metadata": {},
   "outputs": [
    {
     "data": {
      "text/plain": [
       "{'Gradient boosting': 26.778478639404987, 'Decision Tree': 29.79365917414934}"
      ]
     },
     "execution_count": 94,
     "metadata": {},
     "output_type": "execute_result"
    }
   ],
   "source": [
    "mse_dict = {'Gradient boosting' :  mean_squared_error(target_test, predictions_GB_tuned_test),\n",
    "            'Decision Tree' : mean_squared_error(target_test, predictions_DT_tuned_test)}\n",
    "mse_dict"
   ]
  },
  {
   "cell_type": "code",
   "execution_count": 95,
   "id": "d2c4e8d9",
   "metadata": {},
   "outputs": [
    {
     "data": {
      "text/plain": [
       "{'Gradient boosting': 5.174792618009439, 'Decision Tree': 5.458356819973328}"
      ]
     },
     "execution_count": 95,
     "metadata": {},
     "output_type": "execute_result"
    }
   ],
   "source": [
    "rmse_dict = {'Gradient boosting' : mean_squared_error(target_test, predictions_GB_tuned_test, squared=False),\n",
    "             'Decision Tree' : mean_squared_error(target_test, predictions_DT_tuned_test, squared=False)}\n",
    "rmse_dict"
   ]
  },
  {
   "cell_type": "code",
   "execution_count": 99,
   "id": "c90d7558",
   "metadata": {},
   "outputs": [
    {
     "data": {
      "text/plain": [
       "{'Gradient boosting': 0.39243440000934615, 'Decision Tree': 0.4012275664521088}"
      ]
     },
     "execution_count": 99,
     "metadata": {},
     "output_type": "execute_result"
    }
   ],
   "source": [
    "mape = {'Gradient boosting' : mean_absolute_percentage_error(target_test, predictions_GB_tuned_test),\n",
    "           'Decision Tree' : mean_absolute_percentage_error(target_test, predictions_DT_tuned_test)}\n",
    "mape"
   ]
  },
  {
   "cell_type": "markdown",
   "id": "82645cb7",
   "metadata": {},
   "source": [
    "Как видно, градиентный бустинг показал себя лучше, чем дерево решений"
   ]
  }
 ],
 "metadata": {
  "kernelspec": {
   "display_name": "Python 3 (ipykernel)",
   "language": "python",
   "name": "python3"
  },
  "language_info": {
   "codemirror_mode": {
    "name": "ipython",
    "version": 3
   },
   "file_extension": ".py",
   "mimetype": "text/x-python",
   "name": "python",
   "nbconvert_exporter": "python",
   "pygments_lexer": "ipython3",
   "version": "3.9.7"
  }
 },
 "nbformat": 4,
 "nbformat_minor": 5
}
